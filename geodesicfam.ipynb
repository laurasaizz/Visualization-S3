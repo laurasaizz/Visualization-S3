{
 "cells": [
  {
   "cell_type": "code",
   "execution_count": 1,
   "id": "baa429da-a552-45d0-8a75-e4e8de1e99be",
   "metadata": {},
   "outputs": [],
   "source": [
    "import numpy as np\n",
    "from rotation3sphere import align_to_north_pole\n",
    "import matplotlib.pyplot as plt\n",
    "import itertools as it"
   ]
  },
  {
   "cell_type": "markdown",
   "id": "ad6dc59c-017b-4efd-b0db-e4e18db6de0f",
   "metadata": {},
   "source": [
    "Here, the method of building the distance matrix via the family of geodesics connecting the antipodal points $(1,0)$ and $(-1, 0)$ is demonstrated.\n",
    "\n",
    "The approach is based on the following steps:\n",
    "1. Select a number of geodesics from the family by selecting appropriate pairs of parameters\n",
    "2. Sample within these geodesics using Fibonacci grid sampling\n",
    "3. Calculate pairwise Carnot-Carathéodory distances by rotating one point back into $(1,0)$ and applying the formula for the distance for a point $(z_1, z_2)$ from $(1,0)$.\n",
    "\n",
    "The formula for the distance from $(1,0)$ is: $$d_{c-c} = | \\arccos z_1 |$$\n",
    "Here, $(z_1, z_2) \\in \\mathbb{S}^3 \\subset \\mathbb{C}^2$."
   ]
  },
  {
   "cell_type": "code",
   "execution_count": 2,
   "id": "1a4a5e66-2853-46c5-be11-0cf062f9961f",
   "metadata": {},
   "outputs": [],
   "source": [
    "def get_z1(rho, u):\n",
    "    return lambda s: np.exp(-1j*u*rho*s)*(np.cos(rho*s)+1j*u*np.sin(rho*s))\n",
    "\n",
    "def get_z2(rho, u, alpha=0):\n",
    "    r = 1 - u**2\n",
    "    return lambda s: r*np.exp(-1j*(u*rho*s+alpha))*np.sin(rho*s)\n",
    "\n",
    "def geodesic(m, p, number):\n",
    "    \"\"\"Sample geodesic between antipodal points (1,0), (-1,0).\"\"\"\n",
    "    if not ( m == round(m) and m > 0 ):\n",
    "        raise ValueError(f\"m={m} is an invalid value. Should be a nonzero natural number.\")\n",
    "    rho = np.pi*m\n",
    "    if m % 2:\n",
    "        # m odd\n",
    "        if not ( -(m-1)/2 <= p and p <= (m-1)/2 ):\n",
    "            raise ValueError(f\"p={p} is out of bounds for odd m={m}: {-(m-1)/2} <= p <= {(m-1)/2}\")\n",
    "        u = 2*p/m\n",
    "    else:\n",
    "        # m even\n",
    "        if not ( -m/2 <= p and p <= m/2-1 ):\n",
    "            raise ValueError(f\"p={p} is out of bound for even m={m}: {-(m-1)/2} <= p <= {(m-1)/2}\")\n",
    "        u = (2*p+1)/m\n",
    "    z1, z2 = get_z1(rho, u), get_z2(rho, u)\n",
    "    return [ np.array([z1(s).real, z1(s).imag, z2(s).real, z2(s).imag]) for s in np.linspace(0, 1, number) ]\n",
    "\n",
    "def geodesic_get_allowed_p(m):\n",
    "    \"\"\"Return a list of all allowed values of p for a given m\"\"\"\n",
    "    if not ( m == round(m) and m > 0 ):\n",
    "        raise ValueError(f\"m={m} is an invalid value. Should be a nonzero natural number.\")\n",
    "    if m % 2:\n",
    "        # m odd\n",
    "        return list(range(-int((m-1)/2), int((m+1)/2)))\n",
    "    else:\n",
    "        # m even\n",
    "        return list(range(-int(m/2), int(m/2)))"
   ]
  },
  {
   "cell_type": "markdown",
   "id": "87ccd349-16c6-4300-9b05-c37939986c14",
   "metadata": {},
   "source": [
    "The function `distance(p, q)` uses the above formula for the Carnot-Carathéodory distance from $(1,0)$ to calculate the distance after rotating `p` to $(1,0)$."
   ]
  },
  {
   "cell_type": "code",
   "execution_count": 3,
   "id": "4a480b41-db72-4fba-9e34-ffed3060e86b",
   "metadata": {},
   "outputs": [],
   "source": [
    "def distance(p, q):\n",
    "    p, q = align_to_north_pole(p, q)\n",
    "    return np.abs(np.arccos(q[0]))"
   ]
  },
  {
   "cell_type": "code",
   "execution_count": 4,
   "id": "0b01c220-65b7-41a3-97b6-40ce8b353578",
   "metadata": {},
   "outputs": [],
   "source": [
    "def build_squared_distance_matrix(points):\n",
    "    \"\"\"Build the matrix of squared distances from the arrray of points.\"\"\"\n",
    "    mat = np.zeros((len(points),)*2)\n",
    "    for i in range(len(points)):\n",
    "        for j in range(i+1, len(points)):\n",
    "            mat[i,j] = distance(points[i], points[j])\n",
    "    return (mat + mat.T)**2"
   ]
  },
  {
   "cell_type": "code",
   "execution_count": 5,
   "id": "4c34b569-3656-4d4d-a7f2-65d89c5b1cce",
   "metadata": {},
   "outputs": [],
   "source": [
    "def geodesic_sample_points(m, n):\n",
    "    \"\"\"Sample points for multiple geodesics in family specified by m\n",
    "\n",
    "    Samples n points from each geodesic parameterised by m, with all p allowed for a given m.\n",
    "\n",
    "    Parameters:\n",
    "    m   Parameter m for geodesics\n",
    "    n   Number of points to sample for each geodesic\n",
    "\n",
    "    Returns:\n",
    "    List of (idx, point) tuples. idx is the index of the geodesic point was sampled from.\n",
    "    \"\"\"\n",
    "    return list(it.chain(*[zip(it.repeat(idx), geodesic(m, p, n)) for idx, p in enumerate(geodesic_get_allowed_p(m))]))"
   ]
  },
  {
   "cell_type": "code",
   "execution_count": 6,
   "id": "173f0b82-515b-4f1a-85bf-00291e6f5040",
   "metadata": {},
   "outputs": [],
   "source": [
    "points_geodesic_idxs, points_coords = zip(*geodesic_sample_points(10, 10))\n",
    "#for idx, point in zip(points_geodesic_idxs, points_coords):\n",
    "#    print(idx, point)"
   ]
  },
  {
   "cell_type": "code",
   "execution_count": 7,
   "id": "9c8e4f12-d87c-49ec-b749-3f9b8c91fc24",
   "metadata": {},
   "outputs": [],
   "source": [
    "def b_matrix(A):\n",
    "    n_points = A.shape[0]\n",
    "    H = np.identity(n_points) - np.ones((n_points, n_points)) / n_points\n",
    "    return H@A@H"
   ]
  },
  {
   "cell_type": "code",
   "execution_count": 8,
   "id": "370edd05-9a26-4280-80ba-c6b855585e34",
   "metadata": {},
   "outputs": [],
   "source": [
    "distances_squared = build_squared_distance_matrix(points_coords)\n",
    "A = -0.5*distances_squared\n",
    "B = b_matrix(A)"
   ]
  },
  {
   "cell_type": "code",
   "execution_count": 9,
   "id": "9e6c8f61-3d00-4d43-bb7c-66973be39856",
   "metadata": {},
   "outputs": [],
   "source": [
    "eigvals, eigvecs = np.linalg.eig(B)"
   ]
  },
  {
   "cell_type": "code",
   "execution_count": 10,
   "id": "185135e4-25a0-4d62-b776-d3162476ed88",
   "metadata": {},
   "outputs": [],
   "source": [
    "dimensions_target = 2\n",
    "new_coords = eigvecs @ np.diag(np.sqrt( np.max(np.vstack((eigvals, [0]*eigvals.size)), axis=0) )) @ eigvecs.T"
   ]
  },
  {
   "cell_type": "code",
   "execution_count": 11,
   "id": "5289e8e7-412b-40cc-8e04-28f01af2251b",
   "metadata": {},
   "outputs": [
    {
     "data": {
      "image/png": "[encoded data removed]",
      "text/plain": [
       "<Figure size 640x480 with 1 Axes>"
      ]
     },
     "metadata": {},
     "output_type": "display_data"
    }
   ],
   "source": [
    "x, y = new_coords[:dimensions_target,:].real\n",
    "plt.scatter(x, y, c=points_geodesic_idxs, cmap='Spectral')\n",
    "plt.title(\"MDS for points along geodesics into $\\mathbb{R}^2$\\nIdentical colours indicate points from same geodesic.\")\n",
    "plt.show()"
   ]
  },
  {
   "cell_type": "code",
   "execution_count": 12,
   "id": "e9fd58ba-6505-46b0-8c7e-5e66e84f06c8",
   "metadata": {},
   "outputs": [
    {
     "name": "stdout",
     "output_type": "stream",
     "text": [
      "There are 100 eigenvalues.\n",
      "Number of large, non-zero eigenvalues for approximate embedding: 1 (1.00%)\n"
     ]
    }
   ],
   "source": [
    "small_thresh = 1e-8\n",
    "print(f\"There are {eigvals.size} eigenvalues.\")\n",
    "eigvals_semipos = np.max(np.vstack((eigvals, [0]*eigvals.size)).real, axis=0)\n",
    "n_eigvals_semipos = sum(eigvals_semipos.flatten() > small_thresh)\n",
    "print(f\"Number of large, non-zero eigenvalues for approximate embedding: {n_eigvals_semipos} ({n_eigvals_semipos/eigvals.size*100:.2f}%)\")"
   ]
  },
  {
   "cell_type": "markdown",
   "id": "83bf058f-f289-4f73-8e36-2728ff8d366c",
   "metadata": {},
   "source": [
    "Only one large eigenvalue makes sense given the MDS result (apparently 1-dimensional embedding)."
   ]
  },
  {
   "cell_type": "code",
   "execution_count": null,
   "id": "789075f5-97e9-45c7-835c-9178b83a01c7",
   "metadata": {},
   "outputs": [],
   "source": []
  }
 ],
 "metadata": {
  "kernelspec": {
   "display_name": "Python 3 (ipykernel)",
   "language": "python",
   "name": "python3"
  },
  "language_info": {
   "codemirror_mode": {
    "name": "ipython",
    "version": 3
   },
   "file_extension": ".py",
   "mimetype": "text/x-python",
   "name": "python",
   "nbconvert_exporter": "python",
   "pygments_lexer": "ipython3",
   "version": "3.11.2"
  }
 },
 "nbformat": 4,
 "nbformat_minor": 5
}
