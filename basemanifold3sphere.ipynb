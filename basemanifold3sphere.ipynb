{
 "cells": [
  {
   "cell_type": "code",
   "execution_count": 1,
   "metadata": {},
   "outputs": [],
   "source": [
    "import numpy as np\n",
    "import itertools as it\n",
    "from mds.mds import mds\n",
    "from mds.rotation3sphere import cartesian_to_hyperspherical\n",
    "from hopf.hopf import localcoordsampling_2sphere, hopf_fibration_inverse\n",
    "from scipy.optimize import linear_sum_assignment\n",
    "import matplotlib.pyplot as plt\n",
    "from mpl_toolkits.mplot3d import Axes3D\n",
    "import matplotlib.cm as cm\n",
    "from mds.visualizationtools import add_axis_cube"
   ]
  },
  {
   "cell_type": "markdown",
   "metadata": {},
   "source": [
    "**IDEA:**\n",
    "<br>$(S^3,S^2,\\pi,S^1)$ is a fiber bundle, where $\\pi : S^3 \\to S^2$ being the Hopf\n",
    "fibration, and for every $p\\in S^2, \\pi^{-1}(p)=S^1$. What this essentially\n",
    "means is that $S^3$ is all the possible combinations of the fiber corresponding\n",
    "to each point in $S^2$. Therefore, if we are able to measure distances in $S^2$\n",
    "in terms of how similar the induced fibers are, we can draw the points in $S^2$\n",
    "accordingly and have a first idea of the structure of $S^3$."
   ]
  },
  {
   "cell_type": "markdown",
   "metadata": {},
   "source": [
    "- Sampling points from $S^2$ uniformly: We can use the Fibonacci sampling \n",
    "- For each of these points, we need to sample points from their corresponding fiber\n",
    "(the same amount for each point) \n",
    "- Between every two points of $S^2$ that we sampled, compute the distance between \n",
    "the corresponding fibers (registration distance). For this, we need to solve: \n",
    "<br>A*=$\\underset{A}{\\min}\\langle C, A \\rangle$, such that $A\\mathbf{1}_{n}=\\mathbf{1}_{n}, \\ A^{\\top}\\mathbf{1}_{n}=\\mathbf{1}_{n}$\n",
    "where $C\\in\\mathbb{R}^{n\\times n}$ contains the pairwise distances between points \n",
    "on the fibers.\n",
    "<br>The optimal $A$ is a permutation which registers both sets of fiber points.\n",
    "The registration distance is then $d_\\mathrm{fibers} = \\langle C,A^*\\rangle$.\n",
    "\n",
    "- Figure out a meaningful combination distance for the final merging + visualization.\n",
    "<br>$d_\\mathrm{total}(p,q)=\\sqrt{(1-\\alpha)d_\\mathrm{geod}^2(p,q)+\\alpha d_\\mathrm{fibers}^2(p,q)}$\n",
    "<br> We need to figure out how much more/less important is the similarity of the fibers compared to the geodesic distance between points in the base manifold.\n",
    "Also, the different orders of magnitude in $d_\\mathrm{geod}$ and $d_\\mathrm{fibers}$ should be accounted for.\n",
    "\n",
    "- Visualization: mds into $\\mathbb{R}^3$ with distance matrix constructed using the distance $d_\\mathrm{total}$"
   ]
  },
  {
   "cell_type": "code",
   "execution_count": 2,
   "metadata": {},
   "outputs": [],
   "source": [
    "def distance_matrix_regist(p1, p2, hyperspherical=False):\n",
    "    \"\"\"Build the matrix of distances for calculation of the registration distance.\n",
    "    Note that this matrix is not symmetrical.\n",
    "    \n",
    "    p1: vector of points from first fiber\n",
    "    p2: vector of points from second fiber\n",
    "    hyperspherical: Boolean setting whether points are in hyperspherical or cartesian coordinates\n",
    "    \"\"\"\n",
    "    mat = np.zeros((len(p1),)*2)\n",
    "    if hyperspherical:\n",
    "        for i in range(len(p1)):\n",
    "            for j in range(len(p1)):\n",
    "                # this subtraction gives a new point j' whose distance can be calculated to i' = north pole\n",
    "                angle_diff = p2[j] - p1[i]\n",
    "                # this uses the expressions for the first and two elements of a point as given in mds.hyperspherical_to_cartesian\n",
    "                mat[i,j] = np.abs(np.arccos(np.exp(1j*angle_diff[0]) + 1j*np.cos(angle_diff[1])))\n",
    "    else:\n",
    "        for i in range(len(points)):\n",
    "            for j in range(len(points)):\n",
    "                mat[i,j] = distance(p1[i], p2[j])\n",
    "    return mat"
   ]
  },
  {
   "cell_type": "code",
   "execution_count": 3,
   "metadata": {},
   "outputs": [],
   "source": [
    "def registration_distance(fiber1, fiber2, hyperspherical=False):\n",
    "    C = distance_matrix_regist(fiber1, fiber2, hyperspherical=hyperspherical)\n",
    "    row_ind, col_ind = linear_sum_assignment(C)\n",
    "    return C[row_ind, col_ind].sum()"
   ]
  },
  {
   "cell_type": "code",
   "execution_count": 4,
   "metadata": {},
   "outputs": [],
   "source": [
    "def geodesic_distance_s2(p1, p2):\n",
    "    \"\"\"\n",
    "    Compute the great-circle (geodesic) distance between two points on S2.\n",
    "    \n",
    "    Parameters:\n",
    "    - p1 = (theta1, phi1): Spherical coordinates of the first point (colatitude, longitude)\n",
    "    - p2 = (theta2, phi2): Spherical coordinates of the second point (colatitude, longitude)\n",
    "    \n",
    "    Returns:\n",
    "    - Geodesic distance between the two points\n",
    "    \"\"\"\n",
    "    theta1, phi1 = p1\n",
    "    theta1 -= np.pi/2\n",
    "    theta2, phi2 = p2\n",
    "    theta2 -= np.pi/2\n",
    "    inner_product = np.sin(theta1) * np.sin(theta2) + np.cos(theta1) * np.cos(theta2) * np.cos(phi1 - phi2)\n",
    "    return np.arccos(inner_product)"
   ]
  },
  {
   "cell_type": "code",
   "execution_count": 5,
   "metadata": {},
   "outputs": [],
   "source": [
    "def modified_distance_s2(p1, p2, alpha=0.5, n_fiber_points=30, hyperspherical=False):\n",
    "    _, sampled_fiber1 = hopf_fibration_inverse([p1], n_fiber_points, hyperspherical=hyperspherical)[0]\n",
    "    _, sampled_fiber2 = hopf_fibration_inverse([p2], n_fiber_points, hyperspherical=hyperspherical)[0]\n",
    "    d_regis = registration_distance(sampled_fiber1, sampled_fiber2, hyperspherical=hyperspherical)\n",
    "    d_geod = geodesic_distance_s2(p1, p2)\n",
    "\n",
    "    return np.sqrt((1-alpha)*d_geod**2 + alpha * d_regis**2)"
   ]
  },
  {
   "cell_type": "code",
   "execution_count": 6,
   "metadata": {},
   "outputs": [],
   "source": [
    "def scatter_3d(x, y, z, title=\"3D scatter plot\"):\n",
    "    \"\"\"Plot the 3D points outputted by MDS.\"\"\"\n",
    "    fig = plt.figure(figsize=(8, 6))\n",
    "    ax = fig.add_subplot(111, projection='3d', box_aspect=(1,1,1))\n",
    "    ax.scatter(x, y, z, c='b', marker='o')\n",
    "    ax.set_xlabel(\"X\")\n",
    "    ax.set_ylabel(\"Y\")\n",
    "    ax.set_zlabel(\"Z\")\n",
    "    ax.set_title(title)\n",
    "\n",
    "    plt.show()"
   ]
  },
  {
   "cell_type": "markdown",
   "metadata": {},
   "source": [
    "# Examples"
   ]
  },
  {
   "cell_type": "markdown",
   "metadata": {},
   "source": [
    "First, MDS with the previously defined modified distance is run on the points."
   ]
  },
  {
   "cell_type": "code",
   "execution_count": 7,
   "metadata": {},
   "outputs": [],
   "source": [
    "points = np.array(localcoordsampling_2sphere(250))"
   ]
  },
  {
   "cell_type": "code",
   "execution_count": 8,
   "metadata": {},
   "outputs": [
    {
     "name": "stdout",
     "output_type": "stream",
     "text": [
      "There are 250 eigenvalues.\n",
      "Number of large, non-zero eigenvalues for approximate embedding: 238 (95.20%)\n"
     ]
    }
   ],
   "source": [
    "points_mds_lowalpha = mds(points, 3, distance=modified_distance_s2, alpha=0.03, hyperspherical=True)"
   ]
  },
  {
   "cell_type": "code",
   "execution_count": null,
   "metadata": {},
   "outputs": [],
   "source": [
    "points_mds_highalpha = mds(points, 3, distance=modified_distance_s2, alpha=0.5, hyperspherical=True)"
   ]
  },
  {
   "cell_type": "markdown",
   "metadata": {},
   "source": [
    "Note the small value $\\alpha = 0.03$.\n",
    "From experience, the magnitude of geodesic distances is $10^0$, while the magnitude of registration distances is $10^1$.\n",
    "Thus, to give a roughly equitable contribution of both distances, it is necessary that $\\alpha$ be small to adjust for this imbalance."
   ]
  },
  {
   "cell_type": "markdown",
   "metadata": {},
   "source": [
    "## Unconnected points"
   ]
  },
  {
   "cell_type": "code",
   "execution_count": null,
   "metadata": {},
   "outputs": [],
   "source": [
    "fig, axes = plt.subplots(1, 3, figsize=(12,8), subplot_kw={\"projection\": '3d', \"box_aspect\": (1,1,1)})\n",
    "ax = axes[0]\n",
    "base_points = zip(*[ (np.sin(θ)*np.cos(φ), np.sin(θ)*np.sin(φ), np.cos(θ)) for θ, φ in points ])\n",
    "colors = cm.viridis(points[:,0]/np.pi)\n",
    "\n",
    "ax.scatter(*base_points, c=colors)\n",
    "add_axis_cube(ax, 2)\n",
    "ax.set_axis_off()\n",
    "ax.set_title(\"Base manifold $S^2$\")\n",
    "\n",
    "ax = axes[1]\n",
    "ax.scatter(*points_mds_lowalpha, c=colors, marker='o')\n",
    "add_axis_cube(ax, 3)\n",
    "ax.set_axis_off()\n",
    "ax.set_title(\"MDS embedding ($\\\\alpha = 0.03$)\")\n",
    "\n",
    "ax = axes[2]\n",
    "ax.scatter(*points_mds_highalpha, c=colors, marker='o')\n",
    "add_axis_cube(ax, 3)\n",
    "ax.set_axis_off()\n",
    "ax.set_title(\"MDS embedding ($\\\\alpha = 1$)\")\n",
    "\n",
    "plt.savefig(\"basemanifoldangles.png\", bbox_inches='tight')\n",
    "plt.show()"
   ]
  },
  {
   "cell_type": "markdown",
   "metadata": {},
   "source": [
    "## Connected points"
   ]
  },
  {
   "cell_type": "markdown",
   "metadata": {},
   "source": [
    "This might be an alternative visualization: The nearest neighbours on $S^2$ (base manifold) are shown connected, so that this structure is visible as well.\n",
    "Colours are retained for additional information, their presence should not hurt the interpretability."
   ]
  },
  {
   "cell_type": "code",
   "execution_count": null,
   "metadata": {},
   "outputs": [],
   "source": [
    "def find_closest_neighbour_edges(points, n_neighbours):\n",
    "    \"\"\"Find the n closest neighbours for each point (by geodesic distance) and give the corresponding edges.\"\"\"\n",
    "    n_points = len(points)\n",
    "    edges = []\n",
    "    # to account for edges (i,j) and (j,i) being equivalent\n",
    "    edge_order = lambda x: x if x[0]<x[1] else (x[1],x[0])\n",
    "    edge_same = lambda x: x[0] != x[1]\n",
    "    \n",
    "    for i in range(n_points):\n",
    "        sorted_neighbours = sorted( range(n_points), key=lambda j: (geodesic_distance_s2(points[i], points[j]) if i!=j else 0) )\n",
    "        edges += list(filter(edge_same, zip(it.repeat(i), sorted_neighbours)))[:n_neighbours]\n",
    "    edges = list(map(edge_order, edges))\n",
    "    \n",
    "    edges_uniq, _ = zip(*it.groupby(sorted(edges)))\n",
    "\n",
    "    return edges_uniq\n",
    "\n",
    "def draw_edges(axis, points, edges, edgecolors, alpha=0.6):\n",
    "    \"\"\"Draw all edges (pairs of indices into points) into axis.\"\"\"\n",
    "    for edge, color in zip(edges, edgecolors):\n",
    "        axis.plot(*points[edge,].T, color=color, linestyle='-', alpha=alpha)"
   ]
  },
  {
   "cell_type": "code",
   "execution_count": null,
   "metadata": {},
   "outputs": [],
   "source": [
    "n_neighbours = 4"
   ]
  },
  {
   "cell_type": "code",
   "execution_count": null,
   "metadata": {},
   "outputs": [],
   "source": [
    "fig, axes = plt.subplots(1, 3, figsize=(12,8), subplot_kw={\"projection\": '3d', \"box_aspect\": (1,1,1)})\n",
    "base_points = np.array([ (np.sin(θ)*np.cos(φ), np.sin(θ)*np.sin(φ), np.cos(θ)) for θ, φ in points ])\n",
    "colors = cm.viridis(points[:,0]/np.pi)\n",
    "neighbour_edges = find_closest_neighbour_edges(points, n_neighbours)\n",
    "edges_colors = cm.viridis(points[np.array(list(map(lambda x: x[0], neighbour_edges))),0]/np.pi)\n",
    "\n",
    "ax = axes[0]\n",
    "ax.scatter(*base_points.T, c=colors)\n",
    "draw_edges(ax, base_points, neighbour_edges, edges_colors)\n",
    "add_axis_cube(ax, 2)\n",
    "ax.set_axis_off()\n",
    "ax.set_title(\"Base manifold $S^2$\")\n",
    "\n",
    "ax = axes[1]\n",
    "ax.scatter(*points_mds_lowalpha, c=colors, marker='o')\n",
    "draw_edges(ax, np.array(list(zip(*points_mds_lowalpha))), neighbour_edges, edges_colors)\n",
    "add_axis_cube(ax, 3)\n",
    "ax.set_axis_off()\n",
    "ax.set_title(\"MDS embedding ($\\\\alpha = 0.03$)\")\n",
    "\n",
    "ax = axes[2]\n",
    "ax.scatter(*points_mds_highalpha, c=colors, marker='o')\n",
    "draw_edges(ax, np.array(list(zip(*points_mds_highalpha))), neighbour_edges, edges_colors)\n",
    "add_axis_cube(ax, 3)\n",
    "ax.set_axis_off()\n",
    "ax.set_title(\"MDS embedding ($\\\\alpha = 1$)\")\n",
    "\n",
    "plt.savefig(\"basemanifoldangles-connected.png\", bbox_inches='tight')\n",
    "plt.show()"
   ]
  },
  {
   "cell_type": "code",
   "execution_count": null,
   "metadata": {},
   "outputs": [],
   "source": []
  }
 ],
 "metadata": {
  "kernelspec": {
   "display_name": "Python 3 (ipykernel)",
   "language": "python",
   "name": "python3"
  },
  "language_info": {
   "codemirror_mode": {
    "name": "ipython",
    "version": 3
   },
   "file_extension": ".py",
   "mimetype": "text/x-python",
   "name": "python",
   "nbconvert_exporter": "python",
   "pygments_lexer": "ipython3",
   "version": "3.12.10"
  }
 },
 "nbformat": 4,
 "nbformat_minor": 4
}
