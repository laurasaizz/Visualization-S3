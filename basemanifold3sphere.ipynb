{
 "cells": [
  {
   "cell_type": "markdown",
   "metadata": {},
   "source": [
    "**IDEA:**\n",
    "<br>$(S^3,S^2,\\pi,S^1)$ is a fiber bundle, where $\\pi : S^3 \\to S^2$ being the Hopf\n",
    "fibration, and for every $p\\in S^2, \\pi^{-1}(p)=S^1$. What this essentially\n",
    "means is that $S^3$ is all the possible combinations of the fiber corresponding\n",
    "to each point in $S^2$. Therefore, if we are able to measure distances in $S^2$\n",
    "in terms of how similar the induced fibers are, we can draw the points in $S^2$\n",
    "accordingly and have a first idea of the structure of $S^3$."
   ]
  },
  {
   "cell_type": "markdown",
   "metadata": {},
   "source": [
    "- Sampling points from $S^2$ uniformly: We can use the Fibonacci sampling (there is a function for this in fibers3sphere)\n",
    "- For each of these points, we need to sample points from their corresponding fiber\n",
    "(the same amount for each point) (there is also a function for this in fibers3sphere)\n",
    "- Between every two points of $S^2$ that we sampled, compute the distance between \n",
    "the corresponding fibers (registration distance). For this, we need to solve: \n",
    "<br>A*=$\\underset{A}{\\min}\\langle C, A \\rangle$, such that $A\\mathbf{1}_{n}=\\mathbf{1}_{n}, \\ A^{\\top}\\mathbf{1}_{n}=\\mathbf{1}_{n}$\n",
    "where $C\\in\\mathbb{R}^{n\\times n}$ contains the pairwise distances between points \n",
    "on the fibers.\n",
    "<br>The optimal $A$ is a permutation which registers both sets of fiber points.\n",
    "The registration distance is then $d_{fibers} = \\langle C,A^*\\rangle$.\n",
    "\n",
    "- Figure out a meaningful combination distance for the final merging + visualization.\n",
    "<br>$d_{total}(p,q)=\\sqrt{d_{geod}^2(p,q)+\\alpha d_{fibers}^2(p,q)}$\n",
    "<br> We need to figure out how much more/less important is the similarity of the fibers compared to the geodesic distance between points in the base manifold.\n",
    "\n",
    "- Visualization: mds into $\\mathbb{R}^3$ with distance matrix constructed using the distance $d_{total}$"
   ]
  }
 ],
 "metadata": {
  "kernelspec": {
   "display_name": "ml_homework",
   "language": "python",
   "name": "python3"
  },
  "language_info": {
   "name": "python",
   "version": "3.12.3"
  }
 },
 "nbformat": 4,
 "nbformat_minor": 2
}
