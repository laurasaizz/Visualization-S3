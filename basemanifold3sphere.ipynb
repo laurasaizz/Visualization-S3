{
 "cells": [
  {
   "cell_type": "code",
   "execution_count": 1,
   "metadata": {},
   "outputs": [],
   "source": [
    "import numpy as np\n",
    "import sys\n",
    "import os\n",
    "sys.path.append(os.path.abspath('./'))\n",
    "from mds.mds import distance, b_matrix\n",
    "from mds.rotation3sphere import cartesian_to_hyperspherical\n",
    "from scipy.optimize import linear_sum_assignment\n",
    "import matplotlib.pyplot as plt\n",
    "from mpl_toolkits.mplot3d import Axes3D\n",
    "import matplotlib.cm as cm"
   ]
  },
  {
   "cell_type": "markdown",
   "metadata": {},
   "source": [
    "**IDEA:**\n",
    "<br>$(S^3,S^2,\\pi,S^1)$ is a fiber bundle, where $\\pi : S^3 \\to S^2$ being the Hopf\n",
    "fibration, and for every $p\\in S^2, \\pi^{-1}(p)=S^1$. What this essentially\n",
    "means is that $S^3$ is all the possible combinations of the fiber corresponding\n",
    "to each point in $S^2$. Therefore, if we are able to measure distances in $S^2$\n",
    "in terms of how similar the induced fibers are, we can draw the points in $S^2$\n",
    "accordingly and have a first idea of the structure of $S^3$."
   ]
  },
  {
   "cell_type": "markdown",
   "metadata": {},
   "source": [
    "- Sampling points from $S^2$ uniformly: We can use the Fibonacci sampling \n",
    "- For each of these points, we need to sample points from their corresponding fiber\n",
    "(the same amount for each point) \n",
    "- Between every two points of $S^2$ that we sampled, compute the distance between \n",
    "the corresponding fibers (registration distance). For this, we need to solve: \n",
    "<br>A*=$\\underset{A}{\\min}\\langle C, A \\rangle$, such that $A\\mathbf{1}_{n}=\\mathbf{1}_{n}, \\ A^{\\top}\\mathbf{1}_{n}=\\mathbf{1}_{n}$\n",
    "where $C\\in\\mathbb{R}^{n\\times n}$ contains the pairwise distances between points \n",
    "on the fibers.\n",
    "<br>The optimal $A$ is a permutation which registers both sets of fiber points.\n",
    "The registration distance is then $d_{fibers} = \\langle C,A^*\\rangle$.\n",
    "\n",
    "- Figure out a meaningful combination distance for the final merging + visualization.\n",
    "<br>$d_{total}(p,q)=\\sqrt{(1-\\alpha)d_{geod}^2(p,q)+\\alpha d_{fibers}^2(p,q)}$\n",
    "<br> We need to figure out how much more/less important is the similarity of the fibers compared to the geodesic distance between points in the base manifold.\n",
    "Also, the different orders of magnitude in $d_{geod}$ and $d_{fibers}$ should be accounted for.\n",
    "\n",
    "- Visualization: mds into $\\mathbb{R}^3$ with distance matrix constructed using the distance $d_{total}$"
   ]
  },
  {
   "cell_type": "code",
   "execution_count": 2,
   "metadata": {},
   "outputs": [],
   "source": [
    "def localcoordsampling_2sphere(n):\n",
    "    \"\"\"\n",
    "    Generate approximately equidistant points on the 2-sphere and return them in\n",
    "    spherical coordinates (local parametrization).\n",
    "\n",
    "    Parameters:\n",
    "    n (int): Number of points to sample.\n",
    "\n",
    "    Returns:\n",
    "    np.ndarray: Array of shape (n, 2), where each row is (theta, phi).\n",
    "    \"\"\"\n",
    "    phi = (1 + np.sqrt(5)) / 2\n",
    "\n",
    "    points = np.zeros((n, 2))\n",
    "\n",
    "    for k in range(n):\n",
    "        theta = np.arccos(1 - 2 * (k + 0.5) / n)  # Latitude (theta), range [0, π]\n",
    "        phi_k = 2 * np.pi * (k / phi**2)          # Longitude (phi), range [0, 2π]\n",
    "\n",
    "        points[k, 0] = theta\n",
    "        points[k, 1] = phi_k\n",
    "\n",
    "    return points"
   ]
  },
  {
   "cell_type": "code",
   "execution_count": 3,
   "metadata": {},
   "outputs": [],
   "source": [
    "def hopf_fibration_inverse(points, num_samples, hyperspherical=False):\n",
    "    \"\"\"\n",
    "    Computes the inverse Hopf fibration for multiple points on S^2.\n",
    "    \n",
    "    Parameters:\n",
    "        points (ndarray): Array of shape (N, 2) containing spherical coordinates (theta, phi) of points on S^2.\n",
    "                          theta: Polar angle (0 <= theta <= pi)\n",
    "                          phi: Azimuthal angle (0 <= phi < 2pi)\n",
    "        num_samples (int): Number of points to sample from each fiber.\n",
    "    \n",
    "    Returns:\n",
    "        list of tuples: Each tuple contains:\n",
    "            - fiber_index (int): The index of the point on S^2 the fiber belongs to.\n",
    "            - sampled_fiber (ndarray): Array of shape (num_samples, 4) containing the sampled fiber points in S^3.\n",
    "    \"\"\"\n",
    "    fibers = []\n",
    "    \n",
    "    for index, (theta, phi) in enumerate(points):\n",
    "        \n",
    "        psi_values = np.linspace(0, 2 * np.pi, num_samples, endpoint=False)\n",
    "        \n",
    "        half_theta = theta / 2\n",
    "        z1 = np.cos(half_theta) * np.exp(1j * psi_values)  \n",
    "        z2 = np.sin(half_theta) * np.exp(1j * (phi + psi_values))  \n",
    "        \n",
    "        x1, y1 = np.real(z1), np.imag(z1)\n",
    "        x2, y2 = np.real(z2), np.imag(z2)\n",
    "        \n",
    "        # Stack into a (num_samples, 4) array\n",
    "        sampled_fiber = np.column_stack([x1, y1, x2, y2])\n",
    "\n",
    "        fibers.append((index, sampled_fiber))\n",
    "\n",
    "    if hyperspherical:\n",
    "        return [ (index, np.array([cartesian_to_hyperspherical(p) for p in sampled_fiber])) for index, sampled_fiber in fibers]\n",
    "    else:\n",
    "        return fibers"
   ]
  },
  {
   "cell_type": "code",
   "execution_count": 4,
   "metadata": {},
   "outputs": [],
   "source": [
    "def distance_matrix_regist(p1, p2, hyperspherical=False):\n",
    "    \"\"\"Build the matrix of distances for calculation of the registration distance.\n",
    "    Note that this matrix is not symmetrical.\n",
    "    \n",
    "    p1: vector of points from first fiber\n",
    "    p2: vector of points from second fiber\n",
    "    hyperspherical: Boolean setting whether points are in hyperspherical or cartesian coordinates\n",
    "    \"\"\"\n",
    "    mat = np.zeros((len(p1),)*2)\n",
    "    if hyperspherical:\n",
    "        for i in range(len(p1)):\n",
    "            for j in range(len(p1)):\n",
    "                # this subtraction gives a new point j' whose distance can be calculated to i' = north pole\n",
    "                angle_diff = p2[j] - p1[i]\n",
    "                # this uses the expressions for the first and two elements of a point as given in mds.hyperspherical_to_cartesian\n",
    "                mat[i,j] = np.abs(np.arccos(np.exp(1j*angle_diff[0]) + 1j*np.cos(angle_diff[1])))\n",
    "    else:\n",
    "        for i in range(len(points)):\n",
    "            for j in range(len(points)):\n",
    "                mat[i,j] = distance(p1[i], p2[j])\n",
    "    return mat"
   ]
  },
  {
   "cell_type": "code",
   "execution_count": 5,
   "metadata": {},
   "outputs": [],
   "source": [
    "def registration_distance(fiber1, fiber2, hyperspherical=False):\n",
    "    C = distance_matrix_regist(fiber1, fiber2, hyperspherical=hyperspherical)\n",
    "    row_ind, col_ind = linear_sum_assignment(C)\n",
    "    return C[row_ind, col_ind].sum()"
   ]
  },
  {
   "cell_type": "code",
   "execution_count": 6,
   "metadata": {},
   "outputs": [],
   "source": [
    "def geodesic_distance_s2(p1, p2):\n",
    "    \"\"\"\n",
    "    Compute the great-circle (geodesic) distance between two points on S2.\n",
    "    \n",
    "    Parameters:\n",
    "    - p1 = (theta1, phi1): Spherical coordinates of the first point (colatitude, longitude)\n",
    "    - p2 = (theta2, phi2): Spherical coordinates of the second point (colatitude, longitude)\n",
    "    \n",
    "    Returns:\n",
    "    - Geodesic distance between the two points\n",
    "    \"\"\"\n",
    "    theta1, phi1 = p1\n",
    "    theta2, phi2 = p2\n",
    "    inner_product = np.sin(theta1) * np.sin(theta2) + np.cos(theta1) * np.cos(theta2) * np.cos(phi1 - phi2)\n",
    "    return np.arccos(inner_product)"
   ]
  },
  {
   "cell_type": "code",
   "execution_count": 7,
   "metadata": {},
   "outputs": [],
   "source": [
    "def modified_distance_s2(p1, p2, alpha=0.5, n_fiber_points=30, hyperspherical=False):\n",
    "    _, sampled_fiber1 = hopf_fibration_inverse([p1], n_fiber_points, hyperspherical=hyperspherical)[0]\n",
    "    _, sampled_fiber2 = hopf_fibration_inverse([p2], n_fiber_points, hyperspherical=hyperspherical)[0]\n",
    "    d_regis = registration_distance(sampled_fiber1, sampled_fiber2, hyperspherical=hyperspherical)\n",
    "    d_geod = geodesic_distance_s2(p1, p2)\n",
    "\n",
    "    return np.sqrt((1-alpha)*d_geod**2 + alpha * d_regis**2)"
   ]
  },
  {
   "cell_type": "code",
   "execution_count": 8,
   "metadata": {},
   "outputs": [],
   "source": [
    "def squared_distance_matrix(points, alpha=0.5, hyperspherical=False):\n",
    "    \"\"\"Build the matrix of squared distances from the array of points.\n",
    "    \n",
    "    Parameters:\n",
    "    - points: Array of coordinates\n",
    "    - alpha: (Convex) ratio with which S2 geodesic distance and registration distance of fibers are mixed\n",
    "    - hyperspherical: Boolean setting whether points are in hyperspherical or cartesian coordinates\n",
    "    \"\"\"\n",
    "    n = len(points)\n",
    "    mat = np.zeros((n, n))\n",
    "    \n",
    "    for i in range(n):\n",
    "        for j in range(i+1, n):\n",
    "            mat[i, j] = modified_distance_s2(points[i], points[j], alpha=alpha, hyperspherical=hyperspherical)\n",
    "    \n",
    "    return (mat + mat.T) ** 2"
   ]
  },
  {
   "cell_type": "code",
   "execution_count": 9,
   "metadata": {},
   "outputs": [],
   "source": [
    "def mds(points, alpha=0.5, dimensions_target=2, hyperspherical=True):\n",
    "    \"\"\"Calculate distances and run MDS scheme on points. Our resulting distance\n",
    "    matrix B is symmetric.\n",
    "    Dimension reduction to dimensions target\n",
    "    New coordinates are returned such that unpacking into separate coordinates is possible, i.e.\n",
    "      x, y, z, … = mds(…)\n",
    "    \"\"\"\n",
    "    \n",
    "    distances = squared_distance_matrix(points, alpha=alpha, hyperspherical=hyperspherical)\n",
    "    A = -0.5 * distances\n",
    "    B = b_matrix(A)\n",
    "    \n",
    "    eigvals, eigvecs = np.linalg.eigh(B)  \n",
    "    #Sorted in descending order\n",
    "    eigvals = eigvals[::-1]  \n",
    "    eigvecs = eigvecs[:, ::-1]\n",
    "\n",
    "    small_thresh = 1e-8\n",
    "    print(f\"There are {eigvals.size} eigenvalues.\")\n",
    "    eigvals_semipos = np.max(np.vstack((eigvals, [0]*eigvals.size)).real, axis=0)\n",
    "    n_eigvals_semipos = sum(eigvals_semipos.flatten() > small_thresh)\n",
    "    print(f\"Number of large, non-zero eigenvalues for approximate embedding: {n_eigvals_semipos} ({n_eigvals_semipos/eigvals.size*100:.2f}%)\")\n",
    "    \n",
    "    vlambda = eigvecs @ np.sqrt(np.diag(np.maximum(eigvals, 0)))\n",
    "    #approximate embedding into target dimension (sketch mds), shape (n_points,target_dimension)\n",
    "    selected_coords = vlambda[:, :dimensions_target]\n",
    "    \n",
    "    return tuple(selected_coords[:, i] for i in range(dimensions_target))"
   ]
  },
  {
   "cell_type": "code",
   "execution_count": 10,
   "metadata": {},
   "outputs": [],
   "source": [
    "def scatter_3d(x, y, z, title=\"3D scatter plot\"):\n",
    "    \"\"\"Plot the 3D points outputted by MDS.\"\"\"\n",
    "    fig = plt.figure(figsize=(8, 6))\n",
    "    ax = fig.add_subplot(111, projection='3d', box_aspect=(1,1,1))\n",
    "    ax.scatter(x, y, z, c='b', marker='o')\n",
    "    ax.set_xlabel(\"X\")\n",
    "    ax.set_ylabel(\"Y\")\n",
    "    ax.set_zlabel(\"Z\")\n",
    "    ax.set_title(title)\n",
    "\n",
    "    plt.show()"
   ]
  },
  {
   "cell_type": "markdown",
   "metadata": {},
   "source": [
    "**EXAMPLES**"
   ]
  },
  {
   "cell_type": "markdown",
   "metadata": {},
   "source": [
    "Note the small value $\\alpha = 0.01$.\n",
    "From experience, the magnitude of geodesic distances is $10^0$, while the magnitude of registration distances is $10^1$.\n",
    "Thus, to give a roughly equitable contribution of both distances, it is necessary that $\\alpha$ be small to adjust for this imbalance."
   ]
  },
  {
   "cell_type": "code",
   "execution_count": null,
   "metadata": {},
   "outputs": [],
   "source": [
    "points = localcoordsampling_2sphere(250)\n",
    "points = np.array(points)\n",
    "x, y, z = mds(points, 0.01, 3)"
   ]
  },
  {
   "cell_type": "code",
   "execution_count": null,
   "metadata": {},
   "outputs": [],
   "source": [
    "fig, axes = plt.subplots(1, 2, figsize=(12,8), subplot_kw={\"projection\": '3d', \"box_aspect\": (1,1,1)})\n",
    "ax = axes[0]\n",
    "base_points = zip(*[ (np.sin(θ)*np.cos(φ), np.sin(θ)*np.sin(φ), np.cos(θ)) for θ, φ in points ])\n",
    "colors = cm.viridis(points[:,0]/np.pi)\n",
    "#colors = cm.viridis(points[:,0]/points[:,0].max())\n",
    "ax.scatter(*base_points, c=colors)\n",
    "#ax.set_axis_off()\n",
    "ax.set_title(\"Base manifold $S^2$\")\n",
    "\n",
    "ax = axes[1]\n",
    "ax.scatter(x, y, z, c=colors, marker='o')\n",
    "#ax.set_axis_off()\n",
    "ax.set_title(\"MDS embedding with composite distance ($\\\\alpha = 0.01$)\")\n",
    "plt.savefig(\"basemanifoldangles.png\", bbox_inches='tight')\n",
    "plt.show()"
   ]
  },
  {
   "cell_type": "code",
   "execution_count": null,
   "metadata": {},
   "outputs": [],
   "source": []
  }
 ],
 "metadata": {
  "kernelspec": {
   "display_name": "Python 3 (ipykernel)",
   "language": "python",
   "name": "python3"
  },
  "language_info": {
   "codemirror_mode": {
    "name": "ipython",
    "version": 3
   },
   "file_extension": ".py",
   "mimetype": "text/x-python",
   "name": "python",
   "nbconvert_exporter": "python",
   "pygments_lexer": "ipython3",
   "version": "3.11.2"
  }
 },
 "nbformat": 4,
 "nbformat_minor": 4
}
